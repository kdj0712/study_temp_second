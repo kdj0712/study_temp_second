{
  "nbformat": 4,
  "nbformat_minor": 0,
  "metadata": {
    "colab": {
      "provenance": [],
      "authorship_tag": "ABX9TyPe1gnwjwxqN3S/aFUC925J",
      "include_colab_link": true
    },
    "kernelspec": {
      "name": "python3",
      "display_name": "Python 3"
    },
    "language_info": {
      "name": "python"
    }
  },
  "cells": [
    {
      "cell_type": "markdown",
      "metadata": {
        "id": "view-in-github",
        "colab_type": "text"
      },
      "source": [
        "<a href=\"https://colab.research.google.com/github/kdj0712/study_temp_second/blob/main/if_elif_else_quest_DeokJaeKim.ipynb\" target=\"_parent\"><img src=\"https://colab.research.google.com/assets/colab-badge.svg\" alt=\"Open In Colab\"/></a>"
      ]
    },
    {
      "cell_type": "code",
      "execution_count": 2,
      "metadata": {
        "colab": {
          "base_uri": "https://localhost:8080/"
        },
        "id": "WGT68t4ez9FN",
        "outputId": "a3ddbb0e-739b-4cef-91a2-de8d88bbe60b"
      },
      "outputs": [
        {
          "output_type": "stream",
          "name": "stdout",
          "text": [
            "True\n",
            "True\n",
            "False\n",
            "B 학점\n"
          ]
        }
      ],
      "source": [
        "# if elif else with 숫자\n",
        "# 점수 100점 만점\n",
        "scores = 81\n",
        "\n",
        "if (scores >= 80) :\n",
        "  pass\n",
        "  print(\"B 학점\")\n",
        "elif (scores >= 70) :\n",
        "  pass\n",
        "  print(\"C 학점\")\n",
        "else :\n",
        "  pass\n",
        "  print(\"F 학점\")\n"
      ]
    }
  ]
}