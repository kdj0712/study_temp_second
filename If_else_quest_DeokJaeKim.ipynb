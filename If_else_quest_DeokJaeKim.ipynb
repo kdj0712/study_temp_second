way = 2
if (way > 1):
  pass
  print("오른쪽으로 가고 있습니다.")
else :
  pass
  print("왼쪽으로 가고 있습니다.")
print("Program End!")
