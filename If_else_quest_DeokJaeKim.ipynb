{
  "nbformat": 4,
  "nbformat_minor": 0,
  "metadata": {
    "colab": {
      "provenance": [],
      "authorship_tag": "ABX9TyOEcNL6hAV+n9QXW6N3+XAl",
      "include_colab_link": true
    },
    "kernelspec": {
      "name": "python3",
      "display_name": "Python 3"
    },
    "language_info": {
      "name": "python"
    }
  },
  "cells": [
    {
      "cell_type": "markdown",
      "metadata": {
        "id": "view-in-github",
        "colab_type": "text"
      },
      "source": [
        "<a href=\"https://colab.research.google.com/github/kdj0712/study_temp_second/blob/main/If_else_quest_DeokJaeKim.ipynb\" target=\"_parent\"><img src=\"https://colab.research.google.com/assets/colab-badge.svg\" alt=\"Open In Colab\"/></a>"
      ]
    },
    {
      "cell_type": "code",
      "execution_count": 2,
      "metadata": {
        "colab": {
          "base_uri": "https://localhost:8080/"
        },
        "id": "iO4qTUhkaRx5",
        "outputId": "59e3a564-7727-4823-d579-1d247d443d3e"
      },
      "outputs": [
        {
          "output_type": "stream",
          "name": "stdout",
          "text": [
            "오른쪽으로 가고 있습니다.\n",
            "Program End!\n"
          ]
        }
      ],
      "source": [
        "way = 2\n",
        "if (way > 1):\n",
        "  pass\n",
        "  print(\"오른쪽으로 가고 있습니다.\")\n",
        "else :\n",
        "  pass\n",
        "  print(\"왼쪽으로 가고 있습니다.\")\n",
        "print(\"Program End!\")"
      ]
    }
  ]
}