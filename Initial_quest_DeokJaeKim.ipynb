{
  "nbformat": 4,
  "nbformat_minor": 0,
  "metadata": {
    "colab": {
      "provenance": [],
      "authorship_tag": "ABX9TyOXZf2vkDD1bzb3rv5X+BUF",
      "include_colab_link": true
    },
    "kernelspec": {
      "name": "python3",
      "display_name": "Python 3"
    },
    "language_info": {
      "name": "python"
    }
  },
  "cells": [
    {
      "cell_type": "markdown",
      "metadata": {
        "id": "view-in-github",
        "colab_type": "text"
      },
      "source": [
        "<a href=\"https://colab.research.google.com/github/kdj0712/study_temp_second/blob/main/Initial_quest_DeokJaeKim.ipynb\" target=\"_parent\"><img src=\"https://colab.research.google.com/assets/colab-badge.svg\" alt=\"Open In Colab\"/></a>"
      ]
    },
    {
      "cell_type": "code",
      "execution_count": null,
      "metadata": {
        "id": "NsSiBgbmenWV"
      },
      "outputs": [],
      "source": [
        "#initial_quest_[name].ipynd\n",
        "#- \"28을 곱셈했음\" 연산값 출력\n",
        "#- \"9을 곱셈했음\" 연산값 출력\n",
        "#- 변수 이름 : input_first, input_second"
      ]
    },
    {
      "cell_type": "code",
      "source": [
        "# Part 1 : 4와 7을 변수로 지정하여 계산된 결과를 출력\n",
        "input_first = 4\n",
        "input_second = 7\n",
        "result = input_first * input_second + \"을 곱셈했음\" # + 이후 구문은 숫자가 아니므로 더하기 연산이 작용하지 않은 것으로 생각됨\n",
        "print(result)"
      ],
      "metadata": {
        "colab": {
          "base_uri": "https://localhost:8080/",
          "height": 242
        },
        "id": "YovxU8-We2lx",
        "outputId": "97215e3f-76ba-4b3d-c154-d838287b77d5"
      },
      "execution_count": null,
      "outputs": [
        {
          "output_type": "error",
          "ename": "TypeError",
          "evalue": "ignored",
          "traceback": [
            "\u001b[0;31m---------------------------------------------------------------------------\u001b[0m",
            "\u001b[0;31mTypeError\u001b[0m                                 Traceback (most recent call last)",
            "\u001b[0;32m<ipython-input-5-edc49f61f32b>\u001b[0m in \u001b[0;36m<cell line: 4>\u001b[0;34m()\u001b[0m\n\u001b[1;32m      2\u001b[0m \u001b[0minput_first\u001b[0m \u001b[0;34m=\u001b[0m \u001b[0;36m4\u001b[0m\u001b[0;34m\u001b[0m\u001b[0;34m\u001b[0m\u001b[0m\n\u001b[1;32m      3\u001b[0m \u001b[0minput_second\u001b[0m \u001b[0;34m=\u001b[0m \u001b[0;36m7\u001b[0m\u001b[0;34m\u001b[0m\u001b[0;34m\u001b[0m\u001b[0m\n\u001b[0;32m----> 4\u001b[0;31m \u001b[0mresult\u001b[0m \u001b[0;34m=\u001b[0m \u001b[0minput_first\u001b[0m \u001b[0;34m*\u001b[0m \u001b[0minput_second\u001b[0m \u001b[0;34m+\u001b[0m \u001b[0;34m\"을 곱셈했음\"\u001b[0m\u001b[0;34m\u001b[0m\u001b[0;34m\u001b[0m\u001b[0m\n\u001b[0m\u001b[1;32m      5\u001b[0m \u001b[0mprint\u001b[0m\u001b[0;34m(\u001b[0m\u001b[0mresult\u001b[0m\u001b[0;34m)\u001b[0m\u001b[0;34m\u001b[0m\u001b[0;34m\u001b[0m\u001b[0m\n",
            "\u001b[0;31mTypeError\u001b[0m: unsupported operand type(s) for +: 'int' and 'str'"
          ]
        }
      ]
    },
    {
      "cell_type": "code",
      "source": [
        "# Part 1 - 2 : 4와 7을 변수로 지정하여 계산된 결과를 출력 2차\n",
        "input_first = 4\n",
        "input_second = 7\n",
        "result = input_first * input_second\n",
        "print(result,\"을 곱셈했음\")"
      ],
      "metadata": {
        "colab": {
          "base_uri": "https://localhost:8080/"
        },
        "id": "MOSsXDevn6Mi",
        "outputId": "673da37a-868f-4409-cd33-663b4d727941"
      },
      "execution_count": null,
      "outputs": [
        {
          "output_type": "stream",
          "name": "stdout",
          "text": [
            "28 을 곱셈했음\n"
          ]
        }
      ]
    },
    {
      "cell_type": "code",
      "source": [
        "# Part 1 - 3 : 출력된 결과물이 띄어쓰기가 되지 않고 자연스럽게 나올 수 있도록 새로운 방법을 찾아보기\n",
        "input_first = 4\n",
        "input_second = 7\n",
        "answer = input_first * input_second\n",
        "message =\"을 곱셈했음\"\n",
        "result = answer,message\n",
        "print(result) # 결과물이 따로 출력되는 것과 괄호 표시가 나오는 원인을 아직 모르겠음"
      ],
      "metadata": {
        "colab": {
          "base_uri": "https://localhost:8080/"
        },
        "id": "x2DY3zWIoyXS",
        "outputId": "b3be5342-393d-440c-8214-dc2970b53f00"
      },
      "execution_count": null,
      "outputs": [
        {
          "output_type": "stream",
          "name": "stdout",
          "text": [
            "(28, '을 곱셈했음')\n"
          ]
        }
      ]
    },
    {
      "cell_type": "code",
      "source": [
        "# Part 1 - 4 : 출력된 결과물이 띄어쓰기가 되지 않고 자연스럽게 나올 수 있도록 새로운 방법을 찾아보기\n",
        "input_first=4\n",
        "input_second=7\n",
        "answer=input_first*input_second\n",
        "message=\"을 곱셈했음\"\n",
        "print(answer,message) # 여전히 만족스럽지 않으나 추후 다시 진행하도록 하자"
      ],
      "metadata": {
        "colab": {
          "base_uri": "https://localhost:8080/"
        },
        "id": "zfAs-S00q6lK",
        "outputId": "9637f1c6-e038-43d7-f821-9d2575d2aee5"
      },
      "execution_count": null,
      "outputs": [
        {
          "output_type": "stream",
          "name": "stdout",
          "text": [
            "28 을 곱셈했음\n"
          ]
        }
      ]
    },
    {
      "cell_type": "code",
      "source": [
        "# Part 2 : 위 변수를 재활용하여 9의 계산을 도출한 경우\n",
        "input_first = 3\n",
        "input_second = 3\n",
        "result = input_first * input_second\n",
        "print(result,\"을 곱셈했음\")"
      ],
      "metadata": {
        "colab": {
          "base_uri": "https://localhost:8080/"
        },
        "id": "mV_42LGYf03O",
        "outputId": "3c313c44-4101-4187-e7a2-4a4008489d50"
      },
      "execution_count": null,
      "outputs": [
        {
          "output_type": "stream",
          "name": "stdout",
          "text": [
            "9 을 곱셈했음\n"
          ]
        }
      ]
    },
    {
      "cell_type": "code",
      "source": [
        "# Part 2 - 1: 위 변수를 재활용하되 Part 1 - 4의 방식을 활용하여 9의 계산을 도출한 경우\n",
        "input_first = 3\n",
        "input_second = 3\n",
        "answer = input_first * input_second\n",
        "print(result,message) # 앞서 선행된 내용이 있을 것으로 예상하고 변수를 지정하지 않고 실행해보자 - 결과는 동일하게 진행되었음"
      ],
      "metadata": {
        "colab": {
          "base_uri": "https://localhost:8080/"
        },
        "id": "Ojehm__HsVaJ",
        "outputId": "4c3b7e65-2e95-425b-d884-8c915b45cef3"
      },
      "execution_count": null,
      "outputs": [
        {
          "output_type": "stream",
          "name": "stdout",
          "text": [
            "9 을 곱셈했음\n"
          ]
        }
      ]
    }
  ]
}